{
 "cells": [
  {
   "cell_type": "code",
   "execution_count": 140,
   "metadata": {
    "collapsed": true,
    "scrolled": true
   },
   "outputs": [],
   "source": [
    "import pandas"
   ]
  },
  {
   "cell_type": "code",
   "execution_count": 141,
   "metadata": {
    "collapsed": true
   },
   "outputs": [],
   "source": [
    "def reader(file):\n",
    "    return pandas.read_csv(file, header=None)"
   ]
  },
  {
   "cell_type": "code",
   "execution_count": 142,
   "metadata": {
    "collapsed": true,
    "scrolled": true
   },
   "outputs": [],
   "source": [
    "def sort_columns(data):\n",
    "    data = data[[0, 4, 5, 7, 8, 9]]\n",
    "    data.columns = ['recipient_name', 'recipient_location', 'amount', 'scheme', 'year', 'country']\n",
    "    return data"
   ]
  },
  {
   "cell_type": "code",
   "execution_count": 143,
   "metadata": {
    "collapsed": true
   },
   "outputs": [],
   "source": [
    "def grouped_recipients_200(data):\n",
    "    data = data.groupby(['recipient_name', 'recipient_location'])['amount'].sum()\n",
    "    return data.sort_values(ascending=False)[0:200]"
   ]
  },
  {
   "cell_type": "code",
   "execution_count": 144,
   "metadata": {
    "collapsed": true
   },
   "outputs": [],
   "source": [
    "def grouped_locations_200(data):\n",
    "    data = data.groupby(['recipient_location'])['amount'].sum()\n",
    "    return data.sort_values(ascending=False)[0:200]"
   ]
  },
  {
   "cell_type": "code",
   "execution_count": 145,
   "metadata": {
    "collapsed": true
   },
   "outputs": [],
   "source": [
    "def amount(data):\n",
    "    return data['amount'].sum()"
   ]
  },
  {
   "cell_type": "markdown",
   "metadata": {},
   "source": [
    "## Save Data"
   ]
  },
  {
   "cell_type": "code",
   "execution_count": 146,
   "metadata": {
    "collapsed": true
   },
   "outputs": [],
   "source": [
    "def save_data(data1, data2, filename):\n",
    "    writer = pandas.ExcelWriter('{0}.xls'.format(filename))\n",
    "    data1.to_excel(writer, sheet_name='sheet_1')\n",
    "    data2.to_excel(writer, sheet_name='sheet_2')\n",
    "    writer.save()"
   ]
  },
  {
   "cell_type": "markdown",
   "metadata": {},
   "source": [
    "## Run"
   ]
  },
  {
   "cell_type": "code",
   "execution_count": 147,
   "metadata": {
    "collapsed": true
   },
   "outputs": [],
   "source": [
    "files = ['RO_Subsidies_2008.csv',\n",
    "         'RO_Subsidies_2009.csv',\n",
    "         'RO_Subsidies_2010.csv',\n",
    "         'RO_Subsidies_2011.csv',\n",
    "         'RO_Subsidies_2012.csv',\n",
    "         'RO_Subsidies_2013.csv'\n",
    "    ]"
   ]
  },
  {
   "cell_type": "code",
   "execution_count": 148,
   "metadata": {
    "collapsed": true
   },
   "outputs": [],
   "source": [
    "def run(file):\n",
    "    data = reader(file)\n",
    "    data = sort_columns(data)\n",
    "    amnt = amount(data)\n",
    "    year = file.lstrip('RO_Subsidies_').rstrip('.csv')\n",
    "    grouped_recipients = grouped_recipients_200(data)\n",
    "    grouped_locations = grouped_locations_200(data)\n",
    "    save_data(grouped_recipients, grouped_locations, file.rstrip('.csv'))\n",
    "    return [(year, amnt)]"
   ]
  },
  {
   "cell_type": "code",
   "execution_count": 149,
   "metadata": {
    "collapsed": true
   },
   "outputs": [],
   "source": [
    "amounts = map(run, files)"
   ]
  },
  {
   "cell_type": "code",
   "execution_count": 150,
   "metadata": {},
   "outputs": [
    {
     "data": {
      "text/plain": [
       "[[('2008', 474789772.89000005)],\n",
       " [('2009', 1164985059.6599991)],\n",
       " [('2010', 1077011684.3099999)],\n",
       " [('2011', 1272169478.8599999)],\n",
       " [('2012', 1385262018.02)],\n",
       " [('2013', 1521923615.5700004)]]"
      ]
     },
     "execution_count": 150,
     "metadata": {},
     "output_type": "execute_result"
    }
   ],
   "source": [
    "list(amounts)"
   ]
  }
 ],
 "metadata": {
  "kernelspec": {
   "display_name": "Python 3",
   "language": "python",
   "name": "python3"
  },
  "language_info": {
   "codemirror_mode": {
    "name": "ipython",
    "version": 3
   },
   "file_extension": ".py",
   "mimetype": "text/x-python",
   "name": "python",
   "nbconvert_exporter": "python",
   "pygments_lexer": "ipython3",
   "version": "3.5.2"
  }
 },
 "nbformat": 4,
 "nbformat_minor": 2
}
